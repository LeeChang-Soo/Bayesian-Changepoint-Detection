{
 "cells": [
  {
   "cell_type": "code",
   "execution_count": 1,
   "metadata": {},
   "outputs": [],
   "source": [
    "import writefile_run"
   ]
  },
  {
   "cell_type": "code",
   "execution_count": 2,
   "metadata": {},
   "outputs": [],
   "source": [
    "filename = '../../anomaly_detectors/utils/make_ackg_json.py'"
   ]
  },
  {
   "cell_type": "code",
   "execution_count": 3,
   "metadata": {},
   "outputs": [],
   "source": [
    "%%writefile_run $filename\n",
    "\n",
    "\n",
    "import pandas as pd\n",
    "import numpy as np\n",
    "from anomaly_detectors.utils import error_codes"
   ]
  },
  {
   "cell_type": "code",
   "execution_count": 4,
   "metadata": {},
   "outputs": [],
   "source": [
    "%%writefile_run $filename -a\n",
    "\n",
    "\n",
    "def make_ack_json(anomaly_detectors):\n",
    "    \n",
    "    bad_response = {\"code\":\"204\",\"status\" : \"No Content\",\"message\": \"Input Data is Empty\"}\n",
    "    no_anom_response = {\"code\":\"200\",\"status\" : \"OK\",\"message\": \"No Anomalies detected\"}\n",
    "    \n",
    "    ack_json = lambda:{\"header\":'',\"body\":[]}\n",
    "    anom_per_asset  = lambda:{\"asset\": \"<asset_serial_number>\",\"anomalies\":[],\"anom_counts\":{}}\n",
    "    anom_per_metric = lambda:{ \"name\":\"<TagName>\",\"datapoints\":[]}\n",
    "    \n",
    "    ack_json1 = ack_json()\n",
    "    \n",
    "    if(anomaly_detectors[0].algo_type=='univariate'):\n",
    "        \n",
    "        no_assets = pd.unique([anomaly_detector.assetno for anomaly_detector in anomaly_detectors]).size \n",
    "        anomaly_detectors_per_asset = np.split(np.array(anomaly_detectors),no_assets)\n",
    "        \n",
    "        for i in range(no_assets):\n",
    "            \n",
    "            anom_per_asset1 = anom_per_asset()\n",
    "            for anomaly_detector in anomaly_detectors_per_asset[i]:\n",
    "                \n",
    "                data = anomaly_detector.data\n",
    "                anom_indexes = anomaly_detector.anom_indexes\n",
    "\n",
    "                if(len(data[anomaly_detector.metric_name])!=0):\n",
    "                    ack_json1['header'] = error_codes.error_codes['success']\n",
    "                    anom_per_asset1['asset'] = anomaly_detector.assetno\n",
    "                    anom_per_asset1['anom_counts'][anomaly_detector.metric_name] = len(anom_indexes)\n",
    "                    \n",
    "                    anom_per_metric1 = anom_per_metric()\n",
    "                    anom_per_metric1['name'] = anomaly_detector.metric_name\n",
    "                    anom_timevalues = data.index[anom_indexes]\n",
    "                    anom_codes = [anomaly_detector.algo_code for i in range(len(anom_timevalues))]\n",
    "\n",
    "                    anom_timestamps = list(zip(anom_timevalues,anom_timevalues,anom_timevalues,anom_codes))\n",
    "                    anom_per_metric1['datapoints'] = [dict(zip(['from_timestamp','to_timestamp','anomaly_timestamp','anomaly_code'],anom_timestamp)) for anom_timestamp in anom_timestamps]                    \n",
    "\n",
    "                    anom_per_asset1['anomalies'].append(anom_per_metric1)\n",
    "                \n",
    "                else:\n",
    "                    ack_json1['header'] = bad_response\n",
    "                    return ack_json1\n",
    "                    \n",
    "            ack_json1['body'].append(anom_per_asset1)\n",
    "\n",
    "            \n",
    "    else:\n",
    "        \n",
    "        for anomaly_detector in anomaly_detectors:\n",
    "\n",
    "            data = anomaly_detector.data\n",
    "            anom_indexes = anomaly_detector.anom_indexes\n",
    "\n",
    "            if(len(data)!=0):\n",
    "                ack_json1['header'] = error_codes.error_codes['success']\n",
    "                anom_per_asset1 = anom_per_asset()\n",
    "                anom_per_asset1['asset'] = anomaly_detector.assetno\n",
    "                anom_per_asset1['anom_counts'][anomaly_detector.metric_name] = len(anom_indexes)\n",
    "\n",
    "                metric_names = anomaly_detector.metric_name\n",
    "\n",
    "                for metric_name in metric_names:\n",
    "                    anom_per_metric1 = anom_per_metric()\n",
    "                    anom_per_metric1['name'] = metric_name\n",
    "                    anom_timevalues = data.index[anom_indexes]\n",
    "                    anom_codes = [anomaly_detector.algo_code for i in range(len(anom_timevalues))]\n",
    "                    anom_timestamps = list(zip(anom_timevalues,anom_timevalues,anom_timevalues,anom_codes))\n",
    "                    \n",
    "                    anom_per_metric1['datapoints'] = [dict(zip(['from_timestamp','to_timestamp','anomaly_timestamp','anomaly_code'],anom_timestamp)) for anom_timestamp in anom_timestamps]                    \n",
    "                    anom_per_asset1['anomalies'].append(anom_per_metric1)\n",
    "\n",
    "                ack_json1['body'].append(anom_per_asset1)\n",
    "            else:\n",
    "                ack_json1['header'] = bad_response\n",
    "            \n",
    "        \n",
    "    return ack_json1"
   ]
  }
 ],
 "metadata": {
  "kernelspec": {
   "display_name": "Python 3",
   "language": "python",
   "name": "python3"
  },
  "language_info": {
   "codemirror_mode": {
    "name": "ipython",
    "version": 3
   },
   "file_extension": ".py",
   "mimetype": "text/x-python",
   "name": "python",
   "nbconvert_exporter": "python",
   "pygments_lexer": "ipython3",
   "version": "3.6.4"
  }
 },
 "nbformat": 4,
 "nbformat_minor": 2
}
