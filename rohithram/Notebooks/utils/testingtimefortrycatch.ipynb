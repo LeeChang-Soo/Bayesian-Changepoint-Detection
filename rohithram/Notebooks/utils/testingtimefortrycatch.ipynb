{
 "cells": [
  {
   "cell_type": "code",
   "execution_count": 2,
   "metadata": {},
   "outputs": [
    {
     "name": "stdout",
     "output_type": "stream",
     "text": [
      "using try outside 14.344854441558443\n",
      "using try inside 15.566896484848488\n"
     ]
    }
   ],
   "source": [
    "x=20\n",
    "y=10\n",
    "\n",
    "def a():\n",
    "   try:\n",
    "       k=0\n",
    "       for i in range(x):\n",
    "           for j in range(y):\n",
    "               k+=i*j\n",
    "   except Exception as e:\n",
    "       print(e)\n",
    "\n",
    "def b():\n",
    "   k=0\n",
    "   for i in range(x):\n",
    "       for j in range(y):\n",
    "           try:\n",
    "               k+=i*j\n",
    "           except Exception as e:\n",
    "               print(e)\n",
    "\n",
    "import timeit\n",
    "\n",
    "ta = timeit.timeit('a()', number=1000000, globals=globals())\n",
    "print(\"using try outside {}\".format(ta))\n",
    "\n",
    "tb = timeit.timeit('b()', number=1000000, globals=globals())\n",
    "print(\"using try inside {}\".format(tb))   "
   ]
  }
 ],
 "metadata": {
  "kernelspec": {
   "display_name": "Python 3",
   "language": "python",
   "name": "python3"
  },
  "language_info": {
   "codemirror_mode": {
    "name": "ipython",
    "version": 3
   },
   "file_extension": ".py",
   "mimetype": "text/x-python",
   "name": "python",
   "nbconvert_exporter": "python",
   "pygments_lexer": "ipython3",
   "version": "3.6.4"
  }
 },
 "nbformat": 4,
 "nbformat_minor": 2
}
