{
 "cells": [
  {
   "cell_type": "code",
   "execution_count": 1,
   "metadata": {},
   "outputs": [],
   "source": [
    "import writefile_run"
   ]
  },
  {
   "cell_type": "code",
   "execution_count": 2,
   "metadata": {},
   "outputs": [],
   "source": [
    "filename = '../../anomaly_detectors/utils/csv_prep_for_reader.py'"
   ]
  },
  {
   "cell_type": "code",
   "execution_count": 3,
   "metadata": {},
   "outputs": [],
   "source": [
    "%%writefile_run $filename\n",
    "\n",
    "\n",
    "import numpy as np\n",
    "import pandas as pd\n",
    "import datetime as dt\n",
    "import os"
   ]
  },
  {
   "cell_type": "code",
   "execution_count": 4,
   "metadata": {},
   "outputs": [],
   "source": [
    "%%writefile_run  $filename -a\n",
    "\n",
    "\n",
    "\n",
    "reader_kwargs= lambda:{\n",
    "            'assetno':['TSFAD_A1'],\n",
    "            'from_timestamp':'',\n",
    "            'to_timestamp':'',\n",
    "            'con':'',\n",
    "            'para_list':'',\n",
    "            'source_type':'',\n",
    "            'table_name':'',\n",
    "            'qry_str':'',\n",
    "            'impute_fill_method':'forward',\n",
    "            'down_sampling_method':None,\n",
    "            'down_sampling_window':None,\n",
    "            'freq':None,\n",
    "            'resample_fill_method':None,\n",
    "            'to_resample':None,\n",
    "            'to_impute':True,\n",
    "}"
   ]
  },
  {
   "cell_type": "code",
   "execution_count": 5,
   "metadata": {},
   "outputs": [],
   "source": [
    "%%writefile_run  $filename -a\n",
    "\n",
    "\n",
    "\n",
    "def preparecsvtoread(filepath,filename,target_dir,assetno='TSFAD_A1',n_rows=None,has_time=True):\n",
    "    if(n_rows is not None):\n",
    "        df  = pd.read_csv(filepath,nrows=n_rows)\n",
    "    else:\n",
    "        \n",
    "        df = pd.read_csv(filepath)\n",
    "        n_rows = df.shape[0]\n",
    "        \n",
    "    df['assetno'] = assetno\n",
    "#     print(df.head())\n",
    "    if(has_time!=True):\n",
    "        start = pd.Timestamp(\"19700807 08:30-0400\")\n",
    "        end = pd.Timestamp(\"20170807 17:30-0400\")\n",
    "        index = pd.DatetimeIndex(start=start, end=end, freq=\"10min\")[:n_rows]\n",
    "        df.insert(0,'timestamp', index) \n",
    "        df = df.dropna(axis=1, how='all')\n",
    "#         print(df.head())\n",
    "    else:\n",
    "        df = df.rename(columns={df.columns[0]:'timestamp'})\n",
    "    df['timestamp'] = (pd.to_datetime(df['timestamp'],infer_datetime_format=True).astype(np.int64)/(1e6)).astype(np.int64)\n",
    "#     print(df.head())\n",
    "    metric_names = df.columns[1:-1]\n",
    "    target_filepath = os.path.join(target_dir,filename)\n",
    "    df.to_csv(target_filepath,index=False)\n",
    "    return target_filepath,list(metric_names)"
   ]
  },
  {
   "cell_type": "code",
   "execution_count": 6,
   "metadata": {},
   "outputs": [],
   "source": [
    "%%writefile_run  $filename -a\n",
    "\n",
    "\n",
    "def get_csv_kwargs(infile='../../dataset/sample_csv_files/alcohol-demand-log-spirits-consu.csv',\n",
    "                  filename='alcohol-demand-log-spirits-consu.csv',\n",
    "                  target_dir='../../dataset/reader_csv_files/',assetno = 'TSFAD_A1',n_rows=None,has_time=True):\n",
    "    \n",
    "    kwargs1 = reader_kwargs()\n",
    "    \n",
    "    con,param = preparecsvtoread(filepath=infile,filename=filename,target_dir=target_dir,assetno=assetno,\n",
    "                                 n_rows=n_rows,has_time=has_time)\n",
    "    kwargs1['con'] = con\n",
    "    kwargs1['source_type'] = 'csv'\n",
    "    kwargs1['from_timestamp']=-int(2**63)\n",
    "    kwargs1['to_timestamp']=int(2**63)\n",
    "    kwargs1['para_list'] = param\n",
    "    \n",
    "    return kwargs1"
   ]
  }
 ],
 "metadata": {
  "kernelspec": {
   "display_name": "Python 3",
   "language": "python",
   "name": "python3"
  },
  "language_info": {
   "codemirror_mode": {
    "name": "ipython",
    "version": 3
   },
   "file_extension": ".py",
   "mimetype": "text/x-python",
   "name": "python",
   "nbconvert_exporter": "python",
   "pygments_lexer": "ipython3",
   "version": "3.6.4"
  }
 },
 "nbformat": 4,
 "nbformat_minor": 2
}
