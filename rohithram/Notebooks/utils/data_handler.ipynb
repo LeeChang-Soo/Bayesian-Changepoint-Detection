{
 "cells": [
  {
   "cell_type": "markdown",
   "metadata": {},
   "source": [
    "## Data Handler\n",
    "* This python file handles both reading the data and writing data to database using separate classes for both cases.\n",
    "* Structure is : \n",
    "* Class **Data_reader** which contains methods which are used to fetch data from csv file.Which converts json response into list of dataframes per asset with multiple metric being columns from index $1$ onwards with timestamp in epoch being index of dataframe and assetno being the first column i.e column index $0$."
   ]
  },
  {
   "cell_type": "code",
   "execution_count": 1,
   "metadata": {
    "collapsed": true
   },
   "outputs": [],
   "source": [
    "import writefile_run"
   ]
  },
  {
   "cell_type": "code",
   "execution_count": 2,
   "metadata": {
    "collapsed": true
   },
   "outputs": [],
   "source": [
    "filename = '../../anomaly_detectors/utils/data_handler.py'"
   ]
  },
  {
   "cell_type": "code",
   "execution_count": 3,
   "metadata": {
    "collapsed": true
   },
   "outputs": [],
   "source": [
    "%%writefile_run $filename\n",
    "\n",
    "\n",
    "import numpy as np\n",
    "import pandas as pd\n",
    "import json\n",
    "from pandas.io.json import json_normalize\n",
    "\n",
    "import datetime as dt\n",
    "# error code is python file which contains dictionary of mapped error codes and messages for different errors\n",
    "from anomaly_detectors.utils.error_codes import error_codes\n",
    "\n",
    "import warnings\n",
    "warnings.filterwarnings('ignore')"
   ]
  },
  {
   "cell_type": "code",
   "execution_count": 4,
   "metadata": {
    "collapsed": true
   },
   "outputs": [],
   "source": [
    "%%writefile_run $filename -a\n",
    "\n",
    "class Data_reader():\n",
    "    \n",
    "    \n",
    "    '''\n",
    "    Data_reader is a class which contains methods which are used to fetch data from csv file.which converts \n",
    "    the resultant dataframe into list of dataframes per asset with different metric(features of data)\n",
    "    being from column index 1, and assetno being column 0 (unique for one set of data) index being timestamps \n",
    "    in epoch format\n",
    "    '''\n",
    "    \n",
    "    def __init__(self,filepath):\n",
    "        \n",
    "        #takes json data\n",
    "        self.filepath = filepath\n",
    "        print(\"Data reader initialised \\n\")\n",
    "\n",
    "    def read(self):\n",
    "        \n",
    "        try:\n",
    "            response_data = pd.read_csv(self.filepath)\n",
    "            \n",
    "        except Exception as e:\n",
    "            error_codes1 = error_codes()\n",
    "            error_codes1['param']['message'] = '{},{}'.format(str(e),str(self.filepath))\n",
    "            return error_codes1['param']\n",
    "        \n",
    "\n",
    "        print(\"Getting the dataset from the reader....\\n\")\n",
    "        entire_data = self.parse_dict_to_dataframe(response_data)\n",
    "        \n",
    "        return entire_data\n",
    "    \n",
    "    def parse_dict_to_dataframe(self,data):\n",
    "        \n",
    "        '''\n",
    "        parses the response data from csv file to list of dataframes per asset and metrics being columns of\n",
    "        each of the dataframe with timestamps being the index and first column is assetno\n",
    "        Arguments: data: response dataframe\n",
    "        Returns -> List of dataframes\n",
    "        '''\n",
    "        \n",
    "        entire_data_set = []\n",
    "        \n",
    "        #making the index of the dataframe to be index and deleting the timestamp column\n",
    "        data.index = data['timestamp']\n",
    "        del data['timestamp']\n",
    "        cols = list(data.columns)\n",
    "        del cols[cols.index('assetno')]\n",
    "        cols.insert(0,'assetno')\n",
    "        \n",
    "        data = data[cols]\n",
    "        #separating the dataframe into groups of distinct assets\n",
    "        data_per_assets = data.groupby('assetno')\n",
    "\n",
    "        #creating list of dataframes of different assetno and with all metrics being columns in each dataframe\n",
    "        for name,group in data_per_assets:\n",
    "            entire_data_set.append(group)\n",
    "        \n",
    "        \n",
    "        return entire_data_set"
   ]
  }
 ],
 "metadata": {
  "kernelspec": {
   "display_name": "Python 3",
   "language": "python",
   "name": "python3"
  },
  "language_info": {
   "codemirror_mode": {
    "name": "ipython",
    "version": 3
   },
   "file_extension": ".py",
   "mimetype": "text/x-python",
   "name": "python",
   "nbconvert_exporter": "python",
   "pygments_lexer": "ipython3",
   "version": "3.6.5"
  }
 },
 "nbformat": 4,
 "nbformat_minor": 2
}
