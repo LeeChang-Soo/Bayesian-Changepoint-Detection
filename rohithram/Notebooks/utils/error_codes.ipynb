{
 "cells": [
  {
   "cell_type": "markdown",
   "metadata": {},
   "source": [
    "## Error codes for various kinds of standard errors"
   ]
  },
  {
   "cell_type": "code",
   "execution_count": 1,
   "metadata": {
    "collapsed": true
   },
   "outputs": [],
   "source": [
    "import writefile_run"
   ]
  },
  {
   "cell_type": "code",
   "execution_count": 2,
   "metadata": {
    "collapsed": true
   },
   "outputs": [],
   "source": [
    "filename = '../../anomaly_detectors/utils/error_codes.py'"
   ]
  },
  {
   "cell_type": "code",
   "execution_count": 3,
   "metadata": {
    "collapsed": true
   },
   "outputs": [],
   "source": [
    "%%writefile_run $filename\n",
    "\n",
    "\n",
    "error_codes = lambda :{\n",
    "                'success':{\"code\" : \"200\",\"status\" : \"OK\"},\n",
    "                'param':{'code':'400','status':'Bad Request',\"message\" : \"Invalid arguments\",\"data\" :{}},\n",
    "                'db':{'code':'441','status':'Database error',\"message\" : \"Unable to communicate with database\"},\n",
    "                'unknown':{\"code\" : \"500\",\"status\" : \"Unknown Exception\"},\n",
    "                'data_missing':{\"code\":\"404\",\"status\":\"Not Found\",'message':'No data found'}\n",
    "              }"
   ]
  }
 ],
 "metadata": {
  "kernelspec": {
   "display_name": "Python 3",
   "language": "python",
   "name": "python3"
  },
  "language_info": {
   "codemirror_mode": {
    "name": "ipython",
    "version": 3
   },
   "file_extension": ".py",
   "mimetype": "text/x-python",
   "name": "python",
   "nbconvert_exporter": "python",
   "pygments_lexer": "ipython3",
   "version": "3.6.5"
  }
 },
 "nbformat": 4,
 "nbformat_minor": 2
}
